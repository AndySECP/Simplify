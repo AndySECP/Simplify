{
 "cells": [
  {
   "cell_type": "code",
   "execution_count": 13,
   "metadata": {},
   "outputs": [],
   "source": [
    "import joblib\n",
    "import spacy\n",
    "from spacy import displacy\n",
    "from collections import Counter\n",
    "nlp = spacy.load(\"en_core_web_sm\")"
   ]
  },
  {
   "cell_type": "code",
   "execution_count": 5,
   "metadata": {},
   "outputs": [
    {
     "data": {
      "text/plain": [
       "{'words': ['hello',\n",
       "  'yeah',\n",
       "  'I',\n",
       "  'just',\n",
       "  'want',\n",
       "  'to',\n",
       "  'get',\n",
       "  'to',\n",
       "  '111',\n",
       "  'Charles',\n",
       "  'Street',\n",
       "  'Sunnyvale',\n",
       "  'California',\n",
       "  'thank',\n",
       "  'you'],\n",
       " 'starts': [0.9,\n",
       "  1.4,\n",
       "  2.8,\n",
       "  3.1,\n",
       "  3.2,\n",
       "  3.3,\n",
       "  3.5,\n",
       "  3.6,\n",
       "  3.7,\n",
       "  6.9,\n",
       "  7.4,\n",
       "  7.5,\n",
       "  8.0,\n",
       "  8.5,\n",
       "  9.5],\n",
       " 'ends': [1.4,\n",
       "  2.8,\n",
       "  3.1,\n",
       "  3.2,\n",
       "  3.3,\n",
       "  3.5,\n",
       "  3.6,\n",
       "  3.7,\n",
       "  6.9,\n",
       "  7.4,\n",
       "  7.5,\n",
       "  8.0,\n",
       "  8.5,\n",
       "  9.5,\n",
       "  9.6]}"
      ]
     },
     "execution_count": 5,
     "metadata": {},
     "output_type": "execute_result"
    }
   ],
   "source": [
    "dp = joblib.load('start_adress_1.jb')\n",
    "dp"
   ]
  },
  {
   "cell_type": "code",
   "execution_count": 6,
   "metadata": {},
   "outputs": [],
   "source": [
    "doc = dp['words']"
   ]
  },
  {
   "cell_type": "code",
   "execution_count": 36,
   "metadata": {},
   "outputs": [
    {
     "data": {
      "text/plain": [
       "['hello',\n",
       " 'yeah',\n",
       " 'I',\n",
       " 'just',\n",
       " 'want',\n",
       " 'to',\n",
       " 'get',\n",
       " 'to',\n",
       " '111',\n",
       " 'Charles',\n",
       " 'Street',\n",
       " 'Sunnyvale',\n",
       " 'California',\n",
       " 'thank',\n",
       " 'you']"
      ]
     },
     "execution_count": 36,
     "metadata": {},
     "output_type": "execute_result"
    }
   ],
   "source": [
    "doc"
   ]
  },
  {
   "cell_type": "code",
   "execution_count": 41,
   "metadata": {},
   "outputs": [],
   "source": [
    "txt = nlp(' '.join(nlp(token).text_with_ws for token in doc))"
   ]
  },
  {
   "cell_type": "code",
   "execution_count": 42,
   "metadata": {},
   "outputs": [
    {
     "data": {
      "text/html": [
       "<div class=\"entities\" style=\"line-height: 2.5; direction: ltr\">hello yeah I just want to get to \n",
       "<mark class=\"entity\" style=\"background: #e4e7d2; padding: 0.45em 0.6em; margin: 0 0.25em; line-height: 1; border-radius: 0.35em; box-decoration-break: clone; -webkit-box-decoration-break: clone\">\n",
       "    111\n",
       "    <span style=\"font-size: 0.8em; font-weight: bold; line-height: 1; border-radius: 0.35em; text-transform: uppercase; vertical-align: middle; margin-left: 0.5rem\">CARDINAL</span>\n",
       "</mark>\n",
       " \n",
       "<mark class=\"entity\" style=\"background: #ddd; padding: 0.45em 0.6em; margin: 0 0.25em; line-height: 1; border-radius: 0.35em; box-decoration-break: clone; -webkit-box-decoration-break: clone\">\n",
       "    Charles Street\n",
       "    <span style=\"font-size: 0.8em; font-weight: bold; line-height: 1; border-radius: 0.35em; text-transform: uppercase; vertical-align: middle; margin-left: 0.5rem\">FAC</span>\n",
       "</mark>\n",
       " Sunnyvale \n",
       "<mark class=\"entity\" style=\"background: #feca74; padding: 0.45em 0.6em; margin: 0 0.25em; line-height: 1; border-radius: 0.35em; box-decoration-break: clone; -webkit-box-decoration-break: clone\">\n",
       "    California\n",
       "    <span style=\"font-size: 0.8em; font-weight: bold; line-height: 1; border-radius: 0.35em; text-transform: uppercase; vertical-align: middle; margin-left: 0.5rem\">GPE</span>\n",
       "</mark>\n",
       " thank you</div>"
      ],
      "text/plain": [
       "<IPython.core.display.HTML object>"
      ]
     },
     "metadata": {},
     "output_type": "display_data"
    }
   ],
   "source": [
    "displacy.render(nlp(str(txt)), jupyter=True, style='ent')"
   ]
  },
  {
   "cell_type": "code",
   "execution_count": 45,
   "metadata": {},
   "outputs": [
    {
     "data": {
      "text/plain": [
       "hello yeah I just want to get to 111 Charles Street Sunnyvale California thank you"
      ]
     },
     "execution_count": 45,
     "metadata": {},
     "output_type": "execute_result"
    }
   ],
   "source": [
    "txt"
   ]
  },
  {
   "cell_type": "code",
   "execution_count": 44,
   "metadata": {},
   "outputs": [
    {
     "name": "stdout",
     "output_type": "stream",
     "text": [
      "111 33 36 CARDINAL\n",
      "Charles Street 37 51 FAC\n",
      "California 62 72 GPE\n"
     ]
    }
   ],
   "source": [
    "for ent in txt.ents:\n",
    "    print(ent.text, ent.start_char, ent.end_char, ent.label_)"
   ]
  },
  {
   "cell_type": "code",
   "execution_count": 68,
   "metadata": {},
   "outputs": [],
   "source": [
    "def get_information(txt):\n",
    "    \n",
    "    '''This function return the place to go and the time we should go.'''\n",
    "\n",
    "    doc = nlp(str(txt))   \n",
    "    \n",
    "    infos = {'Location':'', 'Date':''}\n",
    "    loc_starts, loc_ends = [], []\n",
    "    \n",
    "    for ent in doc.ents:\n",
    "        if ent.label_ in ['CARDINAL', 'LOC', 'ORG', 'FAC', 'GPE']:\n",
    "            loc_starts.append(ent.start_char)\n",
    "            loc_ends.append(ent.end_char)            \n",
    "        if ent.label_ in ['TIME', 'DATE']:\n",
    "            infos['Date'] = infos['Date'] + ' ' + ent.text\n",
    "    txt_ = str(doc)\n",
    "    infos['Location'] = txt_[min(loc_starts):max(loc_ends)+1]\n",
    "     \n",
    "    #check if the location is an address or a point of interest\n",
    "    address = False\n",
    "    loc = infos['Location']\n",
    "    if any(char.isdigit() for char in loc): address = True\n",
    "    if 'street' in loc.lower(): address = True\n",
    "    if 'avenue' in loc.lower(): address = True\n",
    "    infos['type'] = int(address)\n",
    "\n",
    "    return infos"
   ]
  },
  {
   "cell_type": "code",
   "execution_count": 60,
   "metadata": {},
   "outputs": [
    {
     "data": {
      "text/plain": [
       "\"address = False\\nloc = infos['Location']\\nif any(char.isdigit() for char in loc): address = True\\nif 'street' in loc.lower(): address = True\\nif 'avenue' in loc.lower(): address = True\\ninfos['type'] = int(address)\""
      ]
     },
     "execution_count": 60,
     "metadata": {},
     "output_type": "execute_result"
    }
   ],
   "source": [
    "doc = nlp(str(txt))   \n",
    "    \n",
    "infos = {'Location':'', 'Date':''}\n",
    "loc_starts, loc_ends = [], []\n",
    "    \n",
    "for ent in doc.ents:\n",
    "    if ent.label_ in ['CARDINAL', 'LOC', 'ORG', 'FAC', 'GPE']:\n",
    "        loc_starts.append(ent.start_char)\n",
    "        loc_ends.append(ent.end_char)            \n",
    "    if ent.label_ in ['TIME', 'DATE']:\n",
    "        infos['Date'] = infos['Date'] + ' ' + ent.text\n",
    "infos['Location'] = doc[min(loc_starts):max(loc_ends)+1]\n",
    "     \n",
    "#check if the location is an address or a point of interest\n",
    "'''address = False\n",
    "loc = infos['Location']\n",
    "if any(char.isdigit() for char in loc): address = True\n",
    "if 'street' in loc.lower(): address = True\n",
    "if 'avenue' in loc.lower(): address = True\n",
    "infos['type'] = int(address)'''"
   ]
  },
  {
   "cell_type": "code",
   "execution_count": 62,
   "metadata": {},
   "outputs": [
    {
     "data": {
      "text/plain": [
       "[33, 37, 62]"
      ]
     },
     "execution_count": 62,
     "metadata": {},
     "output_type": "execute_result"
    }
   ],
   "source": [
    "loc_starts"
   ]
  },
  {
   "cell_type": "code",
   "execution_count": 67,
   "metadata": {},
   "outputs": [
    {
     "data": {
      "text/plain": [
       "'hello yeah I just want to get to 111 Charles Street Sunnyvale California thank you'"
      ]
     },
     "execution_count": 67,
     "metadata": {},
     "output_type": "execute_result"
    }
   ],
   "source": [
    "str(doc)"
   ]
  },
  {
   "cell_type": "code",
   "execution_count": 9,
   "metadata": {},
   "outputs": [],
   "source": [
    "def get_information(doc):\n",
    "    \n",
    "    doc = joblib.load('start_adress_1.jb')['words']\n",
    "    \n",
    "    for i in range(len(doc)):    \n",
    "            if i + 1 < len(doc):\n",
    "                if (doc[i], doc[i+1]) in [('get', 'to'), ('go', 'to'), ('at', 'the')]:\n",
    "                    start_loc = i+2 \n",
    "    try:\n",
    "        loc_anx = ' '.join(nlp(token).text_with_ws for token in doc[start_loc:])       \n",
    "        \n",
    "    except:\n",
    "        pass\n",
    "    "
   ]
  },
  {
   "cell_type": "code",
   "execution_count": 17,
   "metadata": {},
   "outputs": [],
   "source": [
    "docs = nlp(str(anx))\n",
    "info = [(X.text, X.label_) for X in docs.ents]"
   ]
  },
  {
   "cell_type": "code",
   "execution_count": 18,
   "metadata": {},
   "outputs": [
    {
     "data": {
      "text/plain": [
       "[('111', 'CARDINAL'), ('Charles Street', 'FAC'), ('California', 'GPE')]"
      ]
     },
     "execution_count": 18,
     "metadata": {},
     "output_type": "execute_result"
    }
   ],
   "source": [
    "info"
   ]
  },
  {
   "cell_type": "code",
   "execution_count": 24,
   "metadata": {},
   "outputs": [],
   "source": [
    "def get_data(file):\n",
    "\t''' This function get the data from the json file '''\n",
    "\n",
    "\t#Extract request text information from the json file\n",
    "\tdoc = json.load(open(file, 'r'))\n",
    "\t#Transform the list of tokens into a single string\n",
    "\tfinal = ' '.join(nlp(token).text_with_ws for token in doc[\"words\"])\n",
    "\n",
    "\treturn final"
   ]
  },
  {
   "cell_type": "code",
   "execution_count": 25,
   "metadata": {},
   "outputs": [],
   "source": [
    "txt = ' '.join(nlp(token).text_with_ws for token in doc)"
   ]
  },
  {
   "cell_type": "code",
   "execution_count": 34,
   "metadata": {},
   "outputs": [],
   "source": [
    "def get_information(txt):\n",
    "    \n",
    "    '''This function return the place to go and the time we should go.'''\n",
    "\n",
    "    doc = nlp(str(txt))\n",
    "    anx = [(X.text, X.label_) for X in doc.ents]\n",
    "    \n",
    "    infos = {'Location':'', 'Date':''}\n",
    "    \n",
    "    for tuple_ in anx:\n",
    "        if tuple_[1] in ['CARDINAL', 'LOC', 'ORG', 'FAC', 'GPE']:\n",
    "            infos['Location'] = infos['Location'] + ' ' + tuple_[0]\n",
    "        if tuple_[1] in ['TIME', 'DATE']:\n",
    "            infos['Date'] = infos['Date'] + ' ' + tuple_[0]\n",
    "     \n",
    "    #check if the location is an address or a point of interest\n",
    "    address = False\n",
    "    loc = inf['Location']\n",
    "    if any(char.isdigit() for char in loc): address = True\n",
    "    if 'street' in loc.lower(): address = True\n",
    "    if 'avenue' in loc.lower(): address = True\n",
    "    infos['type'] = int(address)\n",
    "\n",
    "    return infos"
   ]
  },
  {
   "cell_type": "code",
   "execution_count": 69,
   "metadata": {},
   "outputs": [],
   "source": [
    "inf = get_information(txt)"
   ]
  },
  {
   "cell_type": "code",
   "execution_count": 70,
   "metadata": {},
   "outputs": [
    {
     "data": {
      "text/plain": [
       "{'Location': '111 Charles Street Sunnyvale California ', 'Date': '', 'type': 1}"
      ]
     },
     "execution_count": 70,
     "metadata": {},
     "output_type": "execute_result"
    }
   ],
   "source": [
    "inf"
   ]
  },
  {
   "cell_type": "code",
   "execution_count": 29,
   "metadata": {},
   "outputs": [],
   "source": [
    "loc = inf['Location']"
   ]
  },
  {
   "cell_type": "code",
   "execution_count": null,
   "metadata": {},
   "outputs": [],
   "source": [
    "address = False\n",
    "if any(char.isdigit() for char in loc): address = True\n",
    "if 'street' in loc.lower(): address = True\n",
    "if 'avenue' in loc.lower(): address = True"
   ]
  },
  {
   "cell_type": "code",
   "execution_count": 30,
   "metadata": {},
   "outputs": [
    {
     "data": {
      "text/plain": [
       "0"
      ]
     },
     "execution_count": 30,
     "metadata": {},
     "output_type": "execute_result"
    }
   ],
   "source": [
    "int(False)"
   ]
  },
  {
   "cell_type": "code",
   "execution_count": null,
   "metadata": {},
   "outputs": [],
   "source": []
  }
 ],
 "metadata": {
  "kernelspec": {
   "display_name": "Python 3",
   "language": "python",
   "name": "python3"
  },
  "language_info": {
   "codemirror_mode": {
    "name": "ipython",
    "version": 3
   },
   "file_extension": ".py",
   "mimetype": "text/x-python",
   "name": "python",
   "nbconvert_exporter": "python",
   "pygments_lexer": "ipython3",
   "version": "3.7.3"
  }
 },
 "nbformat": 4,
 "nbformat_minor": 2
}
